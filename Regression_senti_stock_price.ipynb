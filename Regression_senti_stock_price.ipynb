{
 "cells": [
  {
   "cell_type": "markdown",
   "metadata": {},
   "source": [
    "A simple Twitter comments and Google finance Data scrapping to predict the future stock price of a quote"
   ]
  },
  {
   "cell_type": "code",
   "execution_count": 1,
   "metadata": {
    "collapsed": true
   },
   "outputs": [],
   "source": [
    "#importing all the required Libraries\n",
    "import tweepy, requests\n",
    "import numpy as np\n",
    "\n",
    "from sklearn import linear_model\n",
    "from sklearn.svm import SVR\n",
    "from sklearn.model_selection import cross_val_score\n",
    "from textblob import TextBlob\n",
    "%matplotlib inline"
   ]
  },
  {
   "cell_type": "code",
   "execution_count": 2,
   "metadata": {
    "collapsed": true
   },
   "outputs": [],
   "source": [
    "# Organising for the keys, File save path\n",
    "consumer_key = 'cBacprmur1W92tY4uoeZWviGA'\n",
    "consumer_secret = '0nRQQNC5aeX7XBEqIVVJDni6w4HIPVNj6cA0JwVy4faAsQBKO0'\n",
    "access_token = '371711493-efb1jvsAlV13mHxX8J7y36FubdeP6QH3eyqttVxw'\n",
    "access_token_secret = 'vrbDkAVTcRmk1c2EoPyI6S90cjg6sIQrmkXaY0X7fRje7'\n",
    "\n",
    "auth = tweepy.OAuthHandler(consumer_key, consumer_secret)\n",
    "auth.set_access_token(access_token, access_token_secret)\n",
    "user = tweepy.API(auth)\n",
    "\n",
    "# file to download the Data of stock prices If available\n",
    "FILE_NAME = 'Stock_Data.csv'"
   ]
  },
  {
   "cell_type": "code",
   "execution_count": 3,
   "metadata": {
    "collapsed": true
   },
   "outputs": [],
   "source": [
    "# Verify for the common sentiment of the stock and return Good/Bad accordingly\n",
    "# Based on subjectivity and polarity of a single tweet and further their average\n",
    "\n",
    "def get_sentiment(name, num_tweets):\n",
    "    list_of_tweets = user.search(name, count=num_tweets)\n",
    "    positive, null = 0, 0\n",
    "\n",
    "    for tweet in list_of_tweets:\n",
    "        blob = TextBlob(tweet.text).sentiment\n",
    "        if blob.subjectivity == 0:\n",
    "            null += 1\n",
    "            next\n",
    "        if blob.polarity > 0:\n",
    "            positive += 1\n",
    "    #print(positive, null)\n",
    "    if positive > ((num_tweets - null) / 2):\n",
    "        return 'Good'\n",
    "    return 'Bad'"
   ]
  },
  {
   "cell_type": "code",
   "execution_count": null,
   "metadata": {
    "collapsed": true
   },
   "outputs": [],
   "source": [
    "Using Textblob and after retrieving the somment / statement froim twitter we calculate teh polarity and subjectivity of the comment.\n",
    "Further concluding it as Good/Bad comment - A very nai"
   ]
  },
  {
   "cell_type": "code",
   "execution_count": 4,
   "metadata": {
    "collapsed": true
   },
   "outputs": [],
   "source": [
    "# Download the stock price data from Google Finance / Yahooo Finance and saves it to a file locally\n",
    "def get_stockdata(name):\n",
    "    url = 'http://www.google.com/finance/historical?q=NASDAQ%3A' + name + '&output=csv'\n",
    "    r = requests.get(url, stream=True)\n",
    "\n",
    "    if r.status_code != 400:\n",
    "        with open(FILE_NAME, 'wb') as f:\n",
    "            for chunk in r:\n",
    "                f.write(chunk)\n",
    "\n",
    "        return True\n",
    "\n",
    "# Loading data from CSV and making a dataset of today's and Tomarrrows Stock prices for model fitting/estimation\n",
    "\n",
    "def stock_prediction():\n",
    "    dataset = []\n",
    "\n",
    "    with open(FILE_NAME) as f:\n",
    "        for n, line in enumerate(f):\n",
    "            if n != 0:\n",
    "                dataset.append(float(line.split(',')[1]))\n",
    "\n",
    "    dataset = np.array(dataset)\n",
    "\n",
    "    # Create dataset matrix (X=today's price and Y=tomorow's price)\n",
    "    def create_dataset(dataset):\n",
    "        X = [dataset[n + 1] for n in range(len(dataset) - 2)]\n",
    "        return np.array(X), dataset[2:]\n",
    "\n",
    "    X, Y = create_dataset(dataset)\n",
    "    X = X.reshape(-1, 1)\n",
    "    Y = Y.reshape(-1, 1)\n",
    "\n",
    "    # different models for Evaluation of the Regression function\n",
    "    models = {\n",
    "        'LinearReg': linear_model.LinearRegression(),\n",
    "        'RidgeReg': linear_model.Ridge(alpha=.5),\n",
    "        #'RidgeCV': linear_model.RidgeCV(alphas=[0.1, 1.0, 10.0]),\n",
    "        'LasoReg': linear_model.Lasso(alpha=0.1),\n",
    "        'LarsReg': linear_model.LassoLars(alpha=.1),\n",
    "        'bayeReg': linear_model.BayesianRidge()\n",
    "        # 'regsvr'   : SVR(C=1.0, epsilon=0.2)\n",
    "    }\n",
    "\n",
    "    # Cross Validation in 5 folds for the Proper Metric evaluation of the selected Model\n",
    "    # Better the score --> Better the model works on the Test/New Data\n",
    "\n",
    "    def cross_score(func, a, b):\n",
    "        scores = cross_val_score(func, a, b, cv=5)\n",
    "        return scores.mean(), scores.std() * 2\n",
    "\n",
    "    # Iterate through all the available models and output the predictions with Accuracy to the console\n",
    "    for model, func in models.items():\n",
    "        func.fit(X, Y.ravel())\n",
    "        scr = cross_score(func, X, Y.ravel())\n",
    "        pred = func.predict(dataset[0]).item()\n",
    "        print('{:10}--> CV-accuracy: {:.2f} (+/- {:.2f}) prediction: {} ~ {}'.format(model, scr[0], scr[1],\n",
    "                                                                                     round(dataset[0], 2),\n",
    "                                                                                     round(pred, 2)))\n"
   ]
  },
  {
   "cell_type": "markdown",
   "metadata": {},
   "source": [
    "Above code uses different Regression - Supervised Learning algorithms and calculates their accuraries accordingly\n",
    "The accuracy is calculated over training the Sets in cross validated phenomenon, \n",
    "i,e the train - test split is continuously evaluated with different folds (5 here) to obtrain max. efficiency\n"
   ]
  },
  {
   "cell_type": "code",
   "execution_count": 5,
   "metadata": {},
   "outputs": [
    {
     "name": "stdout",
     "output_type": "stream",
     "text": [
      "Enter a stock from NASDAQ (e.j: AAPL, FB, GOOGL): spiderman\n",
      "This stock has relatively Bad sentiment on Twitter\n",
      "\n",
      "Also, Google returned an error: Pls enter a valid stock Type\n",
      "Enter a stock from NASDAQ: \n",
      "AAPL\n",
      "This stock has relatively Bad sentiment on Twitter\n",
      "\n",
      "LinearReg --> CV-accuracy: 0.89 (+/- 0.10) prediction: 163.8 ~ 163.44\n",
      "RidgeReg  --> CV-accuracy: 0.89 (+/- 0.10) prediction: 163.8 ~ 163.44\n",
      "LasoReg   --> CV-accuracy: 0.89 (+/- 0.10) prediction: 163.8 ~ 163.43\n",
      "LarsReg   --> CV-accuracy: 0.72 (+/- 0.31) prediction: 163.8 ~ 160.64\n",
      "bayeReg   --> CV-accuracy: 0.89 (+/- 0.10) prediction: 163.8 ~ 163.44\n"
     ]
    }
   ],
   "source": [
    "global name\n",
    "# Entering the Stock Name\n",
    "name = input('Enter a stock from NASDAQ (e.j: AAPL, FB, GOOGL): ').upper()\n",
    "\n",
    "\n",
    "# Check if the stock sentiment is positve\n",
    "def sentiment():\n",
    "    stock_senti = get_sentiment(name, num_tweets=200)\n",
    "    print('This stock has relatively {} sentiment on Twitter\\n'.format(stock_senti))\n",
    "\n",
    "sentiment()\n",
    "# Check if we got teh historical stock price data\n",
    "while not get_stockdata(name):\n",
    "    print('Also, Google returned an error: Pls enter a valid stock Type')\n",
    "    name = input('Enter a stock from NASDAQ: \\n').upper()\n",
    "    sentiment()\n",
    "# We have our file so we create the neural net and get the prediction\n",
    "stock_prediction()"
   ]
  },
  {
   "cell_type": "code",
   "execution_count": null,
   "metadata": {
    "collapsed": true
   },
   "outputs": [],
   "source": []
  }
 ],
 "metadata": {
  "kernelspec": {
   "display_name": "Python 3",
   "language": "python",
   "name": "python3"
  },
  "language_info": {
   "codemirror_mode": {
    "name": "ipython",
    "version": 3
   },
   "file_extension": ".py",
   "mimetype": "text/x-python",
   "name": "python",
   "nbconvert_exporter": "python",
   "pygments_lexer": "ipython3",
   "version": "3.6.1"
  }
 },
 "nbformat": 4,
 "nbformat_minor": 2
}
