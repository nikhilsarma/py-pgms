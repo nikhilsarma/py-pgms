{
 "cells": [
  {
   "cell_type": "markdown",
   "metadata": {},
   "source": [
    "A simple Pandas exploration from the scrapped data (forbes/wikipedia/google finance)"
   ]
  },
  {
   "cell_type": "code",
   "execution_count": 1,
   "metadata": {
    "collapsed": true
   },
   "outputs": [],
   "source": [
    "#importing the required libraries and setting up the scene\n",
    "import pandas as pd\n",
    "import numpy as np\n",
    "%matplotlib inline\n",
    "import re"
   ]
  },
  {
   "cell_type": "code",
   "execution_count": 2,
   "metadata": {
    "collapsed": true
   },
   "outputs": [],
   "source": [
    "# load the companies data scrapped into a pandas dataframe\n",
    "file = \"companies_data.csv\"\n",
    "df = pd.read_csv(file, encoding='latin-1')"
   ]
  },
  {
   "cell_type": "code",
   "execution_count": 3,
   "metadata": {},
   "outputs": [
    {
     "data": {
      "text/html": [
       "<div>\n",
       "<style>\n",
       "    .dataframe thead tr:only-child th {\n",
       "        text-align: right;\n",
       "    }\n",
       "\n",
       "    .dataframe thead th {\n",
       "        text-align: left;\n",
       "    }\n",
       "\n",
       "    .dataframe tbody tr th {\n",
       "        vertical-align: top;\n",
       "    }\n",
       "</style>\n",
       "<table border=\"1\" class=\"dataframe\">\n",
       "  <thead>\n",
       "    <tr style=\"text-align: right;\">\n",
       "      <th></th>\n",
       "      <th>Name</th>\n",
       "      <th>Type</th>\n",
       "      <th>Industry</th>\n",
       "      <th>MarketCap</th>\n",
       "      <th>Sales</th>\n",
       "      <th>Founded</th>\n",
       "      <th>ISIN</th>\n",
       "      <th>Employees</th>\n",
       "      <th>Country</th>\n",
       "      <th>WebSite</th>\n",
       "    </tr>\n",
       "  </thead>\n",
       "  <tbody>\n",
       "    <tr>\n",
       "      <th>0</th>\n",
       "      <td>mitsubishi-ufj-financial</td>\n",
       "      <td>Public KK</td>\n",
       "      <td>Major Banks</td>\n",
       "      <td>$83.9</td>\n",
       "      <td>$49.17</td>\n",
       "      <td>2001</td>\n",
       "      <td>00000000</td>\n",
       "      <td>110,936</td>\n",
       "      <td>Japan</td>\n",
       "      <td>http://www.mufg.jp/english/index.html</td>\n",
       "    </tr>\n",
       "    <tr>\n",
       "      <th>1</th>\n",
       "      <td>sberbank</td>\n",
       "      <td>Public (PAO)</td>\n",
       "      <td>Regional Banks</td>\n",
       "      <td>$63.9</td>\n",
       "      <td>$43.04</td>\n",
       "      <td>1841</td>\n",
       "      <td>00000000</td>\n",
       "      <td>325,075</td>\n",
       "      <td>Russia</td>\n",
       "      <td>http://www.sberbank.com</td>\n",
       "    </tr>\n",
       "    <tr>\n",
       "      <th>2</th>\n",
       "      <td>state-bank-of-india</td>\n",
       "      <td>Public</td>\n",
       "      <td>Regional Banks</td>\n",
       "      <td>$36.5</td>\n",
       "      <td>$43.7</td>\n",
       "      <td>1806</td>\n",
       "      <td>00000000</td>\n",
       "      <td>207,739</td>\n",
       "      <td>India</td>\n",
       "      <td>https://bank.sbi/</td>\n",
       "    </tr>\n",
       "  </tbody>\n",
       "</table>\n",
       "</div>"
      ],
      "text/plain": [
       "                       Name          Type        Industry MarketCap   Sales  \\\n",
       "0  mitsubishi-ufj-financial     Public KK     Major Banks     $83.9  $49.17   \n",
       "1                  sberbank  Public (PAO)  Regional Banks     $63.9  $43.04   \n",
       "2       state-bank-of-india        Public  Regional Banks     $36.5   $43.7   \n",
       "\n",
       "   Founded      ISIN Employees Country                                WebSite  \n",
       "0     2001  00000000   110,936   Japan  http://www.mufg.jp/english/index.html  \n",
       "1     1841  00000000   325,075  Russia                http://www.sberbank.com  \n",
       "2     1806  00000000   207,739   India                      https://bank.sbi/  "
      ]
     },
     "execution_count": 3,
     "metadata": {},
     "output_type": "execute_result"
    }
   ],
   "source": [
    "df.head(n=3)"
   ]
  },
  {
   "cell_type": "code",
   "execution_count": 4,
   "metadata": {
    "collapsed": true
   },
   "outputs": [],
   "source": [
    "#converiting the Sales and Markeycap figures to Numeric and removing the \"$\"sign, also the Employee count\n",
    "pattern = re.compile('\\W+')\n",
    "df['Employees'] = df.Employees.apply(lambda x: ''.join(re.split(pattern,x)))\n",
    "df.Sales = df.Sales.apply(lambda x: float(x[1:]))\n",
    "df.MarketCap = df.MarketCap.apply(lambda x: float(x[1:]))"
   ]
  },
  {
   "cell_type": "code",
   "execution_count": 5,
   "metadata": {},
   "outputs": [
    {
     "data": {
      "text/html": [
       "<div>\n",
       "<style>\n",
       "    .dataframe thead tr:only-child th {\n",
       "        text-align: right;\n",
       "    }\n",
       "\n",
       "    .dataframe thead th {\n",
       "        text-align: left;\n",
       "    }\n",
       "\n",
       "    .dataframe tbody tr th {\n",
       "        vertical-align: top;\n",
       "    }\n",
       "</style>\n",
       "<table border=\"1\" class=\"dataframe\">\n",
       "  <thead>\n",
       "    <tr style=\"text-align: right;\">\n",
       "      <th></th>\n",
       "      <th>Name</th>\n",
       "      <th>Type</th>\n",
       "      <th>Industry</th>\n",
       "      <th>MarketCap</th>\n",
       "      <th>Sales</th>\n",
       "      <th>Founded</th>\n",
       "      <th>ISIN</th>\n",
       "      <th>Employees</th>\n",
       "      <th>Country</th>\n",
       "      <th>WebSite</th>\n",
       "    </tr>\n",
       "  </thead>\n",
       "  <tbody>\n",
       "    <tr>\n",
       "      <th>0</th>\n",
       "      <td>mitsubishi-ufj-financial</td>\n",
       "      <td>Public KK</td>\n",
       "      <td>Major Banks</td>\n",
       "      <td>83.9</td>\n",
       "      <td>49.17</td>\n",
       "      <td>2001</td>\n",
       "      <td>00000000</td>\n",
       "      <td>110936</td>\n",
       "      <td>Japan</td>\n",
       "      <td>http://www.mufg.jp/english/index.html</td>\n",
       "    </tr>\n",
       "    <tr>\n",
       "      <th>1</th>\n",
       "      <td>sberbank</td>\n",
       "      <td>Public (PAO)</td>\n",
       "      <td>Regional Banks</td>\n",
       "      <td>63.9</td>\n",
       "      <td>43.04</td>\n",
       "      <td>1841</td>\n",
       "      <td>00000000</td>\n",
       "      <td>325075</td>\n",
       "      <td>Russia</td>\n",
       "      <td>http://www.sberbank.com</td>\n",
       "    </tr>\n",
       "    <tr>\n",
       "      <th>2</th>\n",
       "      <td>state-bank-of-india</td>\n",
       "      <td>Public</td>\n",
       "      <td>Regional Banks</td>\n",
       "      <td>36.5</td>\n",
       "      <td>43.70</td>\n",
       "      <td>1806</td>\n",
       "      <td>00000000</td>\n",
       "      <td>207739</td>\n",
       "      <td>India</td>\n",
       "      <td>https://bank.sbi/</td>\n",
       "    </tr>\n",
       "  </tbody>\n",
       "</table>\n",
       "</div>"
      ],
      "text/plain": [
       "                       Name          Type        Industry  MarketCap  Sales  \\\n",
       "0  mitsubishi-ufj-financial     Public KK     Major Banks       83.9  49.17   \n",
       "1                  sberbank  Public (PAO)  Regional Banks       63.9  43.04   \n",
       "2       state-bank-of-india        Public  Regional Banks       36.5  43.70   \n",
       "\n",
       "   Founded      ISIN Employees Country                                WebSite  \n",
       "0     2001  00000000    110936   Japan  http://www.mufg.jp/english/index.html  \n",
       "1     1841  00000000    325075  Russia                http://www.sberbank.com  \n",
       "2     1806  00000000    207739   India                      https://bank.sbi/  "
      ]
     },
     "execution_count": 5,
     "metadata": {},
     "output_type": "execute_result"
    }
   ],
   "source": [
    "df.head(n=3)"
   ]
  },
  {
   "cell_type": "code",
   "execution_count": 6,
   "metadata": {
    "scrolled": false
   },
   "outputs": [
    {
     "data": {
      "text/plain": [
       "<matplotlib.text.Text at 0x2165f3bbd68>"
      ]
     },
     "execution_count": 6,
     "metadata": {},
     "output_type": "execute_result"
    },
    {
     "data": {
      "image/png": "[encoded data removed]",
      "text/plain": [
       "<matplotlib.figure.Figure at 0x2165f158198>"
      ]
     },
     "metadata": {},
     "output_type": "display_data"
    }
   ],
   "source": [
    "ax = df.drop('Founded',axis=1).sort_values(by='MarketCap').plot(x='Name', kind=\"bar\", width=0.50,rot=60,figsize=(15,4),title=\"MCap & Sales by Bank\")\n",
    "for i, v in enumerate(df.MarketCap.sort_values()):\n",
    "    ax.text(i-0.25, v+5, str(v), color='blue', fontweight='bold')\n",
    "for i, v in enumerate(df.Sales.sort_values()):\n",
    "    ax.text(i, v+-3, str(v), color='red', fontweight='bold')\n",
    "ax.text(5,250,\"Values in $B\", color=\"black\",size='x-large')"
   ]
  },
  {
   "cell_type": "code",
   "execution_count": 7,
   "metadata": {},
   "outputs": [],
   "source": [
    "#Loading different Banks data into dataframes and concatenating them into single Frame\n",
    "files = {\n",
    "'f1' : \"DBS_Bank.csv\",\n",
    "'f2' : \"Citigroup.csv\",\n",
    "'f3' : \"BNP_Paribas.csv\",\n",
    "'f4' : \"Deutsche_Bank.csv\",\n",
    "'f5' : \"JPMorgan_Chase.csv\"\n",
    "}\n",
    "df1 = pd.read_csv(files['f1'], encoding='latin-1')\n",
    "df2 = pd.read_csv(files['f2'], encoding='latin-1')\n",
    "df3 = pd.read_csv(files['f3'], encoding='latin-1')\n",
    "df4 = pd.read_csv(files['f4'], encoding='latin-1')\n",
    "df1['Date'] = pd.to_datetime(df1.Date)\n",
    "df2['Date'] = pd.to_datetime(df2.Date)\n",
    "df3['Date'] = pd.to_datetime(df3.Date)\n",
    "df4['Date'] = pd.to_datetime(df4.Date)\n",
    "df1['bank'] = 'DbsB'\n",
    "df2['bank'] = 'CitiB'\n",
    "df3['bank'] = 'BNPP'\n",
    "df4['bank'] = 'DeutB'\n",
    "df = pd.concat([df1,df2,df3,df4])"
   ]
  },
  {
   "cell_type": "code",
   "execution_count": 8,
   "metadata": {
    "scrolled": true
   },
   "outputs": [
    {
     "data": {
      "text/plain": [
       "<matplotlib.text.Text at 0x2166138cdd8>"
      ]
     },
     "execution_count": 8,
     "metadata": {},
     "output_type": "execute_result"
    },
    {
     "data": {
      "image/png": "[encoded data removed]",
      "text/plain": [
       "<matplotlib.figure.Figure at 0x216615b44e0>"
      ]
     },
     "metadata": {},
     "output_type": "display_data"
    }
   ],
   "source": [
    "#Boxplot to showing the statistical variance of the stock close prices over the years for different banks\n",
    "import seaborn as sns\n",
    "import matplotlib.pyplot as plt\n",
    "plt.rcParams['figure.figsize']=(15,6)\n",
    "sns.boxplot(data = df, x=df.Date.dt.year,y=df.Close,hue=df.bank).set_title(\"Closing Stats. over Years $\")"
   ]
  },
  {
   "cell_type": "markdown",
   "metadata": {},
   "source": [
    "The Box plot above shows that the DBS bank has reduced its performance since 2014 and CitiBank actually outperformed it in comming years.\n",
    "\n",
    "The change isn't abrupt either - The lower 25th percentile of the Data has slowly increased from 2014-2015 and many outliers (in this case very less than the actual 25% data is present for DBS Bank - Not necessarily outliers)"
   ]
  },
  {
   "cell_type": "code",
   "execution_count": 9,
   "metadata": {},
   "outputs": [
    {
     "data": {
      "text/html": [
       "<div>\n",
       "<style>\n",
       "    .dataframe thead tr:only-child th {\n",
       "        text-align: right;\n",
       "    }\n",
       "\n",
       "    .dataframe thead th {\n",
       "        text-align: left;\n",
       "    }\n",
       "\n",
       "    .dataframe tbody tr th {\n",
       "        vertical-align: top;\n",
       "    }\n",
       "</style>\n",
       "<table border=\"1\" class=\"dataframe\">\n",
       "  <thead>\n",
       "    <tr style=\"text-align: right;\">\n",
       "      <th></th>\n",
       "      <th></th>\n",
       "      <th>Open</th>\n",
       "      <th>High</th>\n",
       "      <th>Low</th>\n",
       "      <th>Close</th>\n",
       "      <th>Adj Close</th>\n",
       "      <th>Volume</th>\n",
       "    </tr>\n",
       "    <tr>\n",
       "      <th>Date</th>\n",
       "      <th>bank</th>\n",
       "      <th></th>\n",
       "      <th></th>\n",
       "      <th></th>\n",
       "      <th></th>\n",
       "      <th></th>\n",
       "      <th></th>\n",
       "    </tr>\n",
       "  </thead>\n",
       "  <tbody>\n",
       "    <tr>\n",
       "      <th rowspan=\"4\" valign=\"top\">2014</th>\n",
       "      <th>BNPP</th>\n",
       "      <td>70.004524</td>\n",
       "      <td>70.119524</td>\n",
       "      <td>69.892857</td>\n",
       "      <td>70.011111</td>\n",
       "      <td>61.552466</td>\n",
       "      <td>2.441667e+03</td>\n",
       "    </tr>\n",
       "    <tr>\n",
       "      <th>CitiB</th>\n",
       "      <td>50.195198</td>\n",
       "      <td>50.594127</td>\n",
       "      <td>49.813611</td>\n",
       "      <td>50.194008</td>\n",
       "      <td>49.070968</td>\n",
       "      <td>2.050971e+07</td>\n",
       "    </tr>\n",
       "    <tr>\n",
       "      <th>DbsB</th>\n",
       "      <td>55.597619</td>\n",
       "      <td>55.833849</td>\n",
       "      <td>55.430159</td>\n",
       "      <td>55.675516</td>\n",
       "      <td>55.675516</td>\n",
       "      <td>4.032659e+04</td>\n",
       "    </tr>\n",
       "    <tr>\n",
       "      <th>DeutB</th>\n",
       "      <td>37.881816</td>\n",
       "      <td>38.112334</td>\n",
       "      <td>37.595271</td>\n",
       "      <td>37.851506</td>\n",
       "      <td>36.072207</td>\n",
       "      <td>1.726411e+06</td>\n",
       "    </tr>\n",
       "    <tr>\n",
       "      <th rowspan=\"4\" valign=\"top\">2015</th>\n",
       "      <th>BNPP</th>\n",
       "      <td>60.148175</td>\n",
       "      <td>60.263770</td>\n",
       "      <td>60.054564</td>\n",
       "      <td>60.164603</td>\n",
       "      <td>54.450412</td>\n",
       "      <td>3.555159e+03</td>\n",
       "    </tr>\n",
       "    <tr>\n",
       "      <th>CitiB</th>\n",
       "      <td>53.301984</td>\n",
       "      <td>53.745198</td>\n",
       "      <td>52.800992</td>\n",
       "      <td>53.276865</td>\n",
       "      <td>52.173853</td>\n",
       "      <td>1.842832e+07</td>\n",
       "    </tr>\n",
       "    <tr>\n",
       "      <th>DbsB</th>\n",
       "      <td>55.863135</td>\n",
       "      <td>56.107222</td>\n",
       "      <td>55.581230</td>\n",
       "      <td>55.868135</td>\n",
       "      <td>55.868135</td>\n",
       "      <td>3.744841e+04</td>\n",
       "    </tr>\n",
       "    <tr>\n",
       "      <th>DeutB</th>\n",
       "      <td>30.345794</td>\n",
       "      <td>30.561191</td>\n",
       "      <td>30.106706</td>\n",
       "      <td>30.342421</td>\n",
       "      <td>29.690911</td>\n",
       "      <td>2.021478e+06</td>\n",
       "    </tr>\n",
       "    <tr>\n",
       "      <th rowspan=\"4\" valign=\"top\">2016</th>\n",
       "      <th>BNPP</th>\n",
       "      <td>51.737143</td>\n",
       "      <td>51.798254</td>\n",
       "      <td>51.654802</td>\n",
       "      <td>51.726944</td>\n",
       "      <td>48.692183</td>\n",
       "      <td>1.559127e+03</td>\n",
       "    </tr>\n",
       "    <tr>\n",
       "      <th>CitiB</th>\n",
       "      <td>46.337857</td>\n",
       "      <td>46.861270</td>\n",
       "      <td>45.852936</td>\n",
       "      <td>46.386111</td>\n",
       "      <td>45.691265</td>\n",
       "      <td>2.210681e+07</td>\n",
       "    </tr>\n",
       "    <tr>\n",
       "      <th>DbsB</th>\n",
       "      <td>44.658809</td>\n",
       "      <td>45.026468</td>\n",
       "      <td>44.393810</td>\n",
       "      <td>44.740000</td>\n",
       "      <td>44.740000</td>\n",
       "      <td>7.116270e+04</td>\n",
       "    </tr>\n",
       "    <tr>\n",
       "      <th>DeutB</th>\n",
       "      <td>16.248214</td>\n",
       "      <td>16.434167</td>\n",
       "      <td>16.037698</td>\n",
       "      <td>16.242936</td>\n",
       "      <td>16.059464</td>\n",
       "      <td>6.155133e+06</td>\n",
       "    </tr>\n",
       "    <tr>\n",
       "      <th rowspan=\"4\" valign=\"top\">2017</th>\n",
       "      <th>BNPP</th>\n",
       "      <td>63.664838</td>\n",
       "      <td>63.708871</td>\n",
       "      <td>63.548387</td>\n",
       "      <td>63.602096</td>\n",
       "      <td>61.025527</td>\n",
       "      <td>1.525806e+03</td>\n",
       "    </tr>\n",
       "    <tr>\n",
       "      <th>CitiB</th>\n",
       "      <td>59.168387</td>\n",
       "      <td>59.676129</td>\n",
       "      <td>58.629032</td>\n",
       "      <td>59.144839</td>\n",
       "      <td>58.659535</td>\n",
       "      <td>1.910891e+07</td>\n",
       "    </tr>\n",
       "    <tr>\n",
       "      <th>DbsB</th>\n",
       "      <td>52.725806</td>\n",
       "      <td>53.232419</td>\n",
       "      <td>52.534194</td>\n",
       "      <td>53.027581</td>\n",
       "      <td>53.027581</td>\n",
       "      <td>9.074355e+04</td>\n",
       "    </tr>\n",
       "    <tr>\n",
       "      <th>DeutB</th>\n",
       "      <td>19.089032</td>\n",
       "      <td>19.270484</td>\n",
       "      <td>18.907097</td>\n",
       "      <td>19.093871</td>\n",
       "      <td>18.878196</td>\n",
       "      <td>7.431527e+06</td>\n",
       "    </tr>\n",
       "  </tbody>\n",
       "</table>\n",
       "</div>"
      ],
      "text/plain": [
       "                 Open       High        Low      Close  Adj Close  \\\n",
       "Date bank                                                           \n",
       "2014 BNPP   70.004524  70.119524  69.892857  70.011111  61.552466   \n",
       "     CitiB  50.195198  50.594127  49.813611  50.194008  49.070968   \n",
       "     DbsB   55.597619  55.833849  55.430159  55.675516  55.675516   \n",
       "     DeutB  37.881816  38.112334  37.595271  37.851506  36.072207   \n",
       "2015 BNPP   60.148175  60.263770  60.054564  60.164603  54.450412   \n",
       "     CitiB  53.301984  53.745198  52.800992  53.276865  52.173853   \n",
       "     DbsB   55.863135  56.107222  55.581230  55.868135  55.868135   \n",
       "     DeutB  30.345794  30.561191  30.106706  30.342421  29.690911   \n",
       "2016 BNPP   51.737143  51.798254  51.654802  51.726944  48.692183   \n",
       "     CitiB  46.337857  46.861270  45.852936  46.386111  45.691265   \n",
       "     DbsB   44.658809  45.026468  44.393810  44.740000  44.740000   \n",
       "     DeutB  16.248214  16.434167  16.037698  16.242936  16.059464   \n",
       "2017 BNPP   63.664838  63.708871  63.548387  63.602096  61.025527   \n",
       "     CitiB  59.168387  59.676129  58.629032  59.144839  58.659535   \n",
       "     DbsB   52.725806  53.232419  52.534194  53.027581  53.027581   \n",
       "     DeutB  19.089032  19.270484  18.907097  19.093871  18.878196   \n",
       "\n",
       "                  Volume  \n",
       "Date bank                 \n",
       "2014 BNPP   2.441667e+03  \n",
       "     CitiB  2.050971e+07  \n",
       "     DbsB   4.032659e+04  \n",
       "     DeutB  1.726411e+06  \n",
       "2015 BNPP   3.555159e+03  \n",
       "     CitiB  1.842832e+07  \n",
       "     DbsB   3.744841e+04  \n",
       "     DeutB  2.021478e+06  \n",
       "2016 BNPP   1.559127e+03  \n",
       "     CitiB  2.210681e+07  \n",
       "     DbsB   7.116270e+04  \n",
       "     DeutB  6.155133e+06  \n",
       "2017 BNPP   1.525806e+03  \n",
       "     CitiB  1.910891e+07  \n",
       "     DbsB   9.074355e+04  \n",
       "     DeutB  7.431527e+06  "
      ]
     },
     "execution_count": 9,
     "metadata": {},
     "output_type": "execute_result"
    }
   ],
   "source": [
    "df.groupby([df.Date.dt.year,'bank']).mean()"
   ]
  },
  {
   "cell_type": "code",
   "execution_count": 10,
   "metadata": {},
   "outputs": [
    {
     "data": {
      "text/plain": [
       "<matplotlib.axes._subplots.AxesSubplot at 0x2166142b400>"
      ]
     },
     "execution_count": 10,
     "metadata": {},
     "output_type": "execute_result"
    },
    {
     "data": {
      "image/png": "[encoded data removed]",
      "text/plain": [
       "<matplotlib.figure.Figure at 0x21661423240>"
      ]
     },
     "metadata": {},
     "output_type": "display_data"
    }
   ],
   "source": [
    "#unstacking the dataframe to groupped columns for a better representation.\n",
    "d = df.groupby([df.Date.dt.year,'bank']).mean().Close.sort_values(ascending=False).unstack()\n",
    "d.plot(kind='bar',width=0.20,rot=0,figsize=(15,4),title=\"Closing Mean $ (2014-17)\")"
   ]
  },
  {
   "cell_type": "code",
   "execution_count": null,
   "metadata": {
    "collapsed": true
   },
   "outputs": [],
   "source": []
  }
 ],
 "metadata": {
  "kernelspec": {
   "display_name": "Python 3",
   "language": "python",
   "name": "python3"
  },
  "language_info": {
   "codemirror_mode": {
    "name": "ipython",
    "version": 3
   },
   "file_extension": ".py",
   "mimetype": "text/x-python",
   "name": "python",
   "nbconvert_exporter": "python",
   "pygments_lexer": "ipython3",
   "version": "3.6.1"
  }
 },
 "nbformat": 4,
 "nbformat_minor": 2
}
